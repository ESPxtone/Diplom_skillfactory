{
 "cells": [
  {
   "cell_type": "code",
   "execution_count": 2,
   "metadata": {},
   "outputs": [],
   "source": [
    "import pandas as pd\n",
    "import numpy as np\n",
    "import seaborn as sns\n",
    "import matplotlib.pyplot as plt\n",
    "sns.set(style=\"ticks\", color_codes=True)\n",
    "import operator\n"
   ]
  },
  {
   "cell_type": "code",
   "execution_count": 3,
   "metadata": {},
   "outputs": [],
   "source": [
    "items = pd.concat([\n",
    "    pd.read_csv(\"item_properties_part1.csv\"),\n",
    "    pd.read_csv(\"item_properties_part2.csv\")\n",
    "])\n",
    "events = pd.read_csv('events.csv')\n",
    "category_tree = pd.read_csv('category_tree.csv')"
   ]
  },
  {
   "attachments": {},
   "cell_type": "markdown",
   "metadata": {},
   "source": [
    "events — датасет с событиями. Колонки:\n",
    "\n",
    "* timestamp — время события\n",
    "* visitorid — идентификатор пользователя\n",
    "* event — тип события\n",
    "* itemid — идентификатор объекта\n",
    "* transactionid — идентификатор транзакции, если она проходила\n",
    "\n",
    "category_tree — файл с деревом категорий (можно восстановить дерево).\n",
    "\n",
    "* category_id — идентификатор категорий\n",
    "* parent_id — идентификатор родительской категории\n",
    "\n",
    "item_properties — файл с свойствами товаров.\n",
    "\n",
    "* timestamp — момент записи значения свойства\n",
    "* item_id — идентификатор объекта\n",
    "* property — свойство\n",
    "* value — значение свойства"
   ]
  },
  {
   "cell_type": "markdown",
   "metadata": {},
   "source": [
    "## EDA"
   ]
  },
  {
   "cell_type": "code",
   "execution_count": 3,
   "metadata": {},
   "outputs": [
    {
     "name": "stdout",
     "output_type": "stream",
     "text": [
      "(20275902, 4)\n"
     ]
    },
    {
     "data": {
      "text/html": [
       "<div>\n",
       "<style scoped>\n",
       "    .dataframe tbody tr th:only-of-type {\n",
       "        vertical-align: middle;\n",
       "    }\n",
       "\n",
       "    .dataframe tbody tr th {\n",
       "        vertical-align: top;\n",
       "    }\n",
       "\n",
       "    .dataframe thead th {\n",
       "        text-align: right;\n",
       "    }\n",
       "</style>\n",
       "<table border=\"1\" class=\"dataframe\">\n",
       "  <thead>\n",
       "    <tr style=\"text-align: right;\">\n",
       "      <th></th>\n",
       "      <th>timestamp</th>\n",
       "      <th>itemid</th>\n",
       "      <th>property</th>\n",
       "      <th>value</th>\n",
       "    </tr>\n",
       "  </thead>\n",
       "  <tbody>\n",
       "    <tr>\n",
       "      <th>0</th>\n",
       "      <td>1435460400000</td>\n",
       "      <td>460429</td>\n",
       "      <td>categoryid</td>\n",
       "      <td>1338</td>\n",
       "    </tr>\n",
       "    <tr>\n",
       "      <th>1</th>\n",
       "      <td>1441508400000</td>\n",
       "      <td>206783</td>\n",
       "      <td>888</td>\n",
       "      <td>1116713 960601 n277.200</td>\n",
       "    </tr>\n",
       "    <tr>\n",
       "      <th>2</th>\n",
       "      <td>1439089200000</td>\n",
       "      <td>395014</td>\n",
       "      <td>400</td>\n",
       "      <td>n552.000 639502 n720.000 424566</td>\n",
       "    </tr>\n",
       "    <tr>\n",
       "      <th>3</th>\n",
       "      <td>1431226800000</td>\n",
       "      <td>59481</td>\n",
       "      <td>790</td>\n",
       "      <td>n15360.000</td>\n",
       "    </tr>\n",
       "    <tr>\n",
       "      <th>4</th>\n",
       "      <td>1431831600000</td>\n",
       "      <td>156781</td>\n",
       "      <td>917</td>\n",
       "      <td>828513</td>\n",
       "    </tr>\n",
       "  </tbody>\n",
       "</table>\n",
       "</div>"
      ],
      "text/plain": [
       "       timestamp  itemid    property                            value\n",
       "0  1435460400000  460429  categoryid                             1338\n",
       "1  1441508400000  206783         888          1116713 960601 n277.200\n",
       "2  1439089200000  395014         400  n552.000 639502 n720.000 424566\n",
       "3  1431226800000   59481         790                       n15360.000\n",
       "4  1431831600000  156781         917                           828513"
      ]
     },
     "execution_count": 3,
     "metadata": {},
     "output_type": "execute_result"
    }
   ],
   "source": [
    "print(items.shape)\n",
    "items.head(5)"
   ]
  },
  {
   "cell_type": "code",
   "execution_count": 4,
   "metadata": {},
   "outputs": [
    {
     "name": "stdout",
     "output_type": "stream",
     "text": [
      "(2756101, 5)\n"
     ]
    },
    {
     "data": {
      "text/html": [
       "<div>\n",
       "<style scoped>\n",
       "    .dataframe tbody tr th:only-of-type {\n",
       "        vertical-align: middle;\n",
       "    }\n",
       "\n",
       "    .dataframe tbody tr th {\n",
       "        vertical-align: top;\n",
       "    }\n",
       "\n",
       "    .dataframe thead th {\n",
       "        text-align: right;\n",
       "    }\n",
       "</style>\n",
       "<table border=\"1\" class=\"dataframe\">\n",
       "  <thead>\n",
       "    <tr style=\"text-align: right;\">\n",
       "      <th></th>\n",
       "      <th>timestamp</th>\n",
       "      <th>visitorid</th>\n",
       "      <th>event</th>\n",
       "      <th>itemid</th>\n",
       "      <th>transactionid</th>\n",
       "    </tr>\n",
       "  </thead>\n",
       "  <tbody>\n",
       "    <tr>\n",
       "      <th>0</th>\n",
       "      <td>1433221332117</td>\n",
       "      <td>257597</td>\n",
       "      <td>view</td>\n",
       "      <td>355908</td>\n",
       "      <td>NaN</td>\n",
       "    </tr>\n",
       "    <tr>\n",
       "      <th>1</th>\n",
       "      <td>1433224214164</td>\n",
       "      <td>992329</td>\n",
       "      <td>view</td>\n",
       "      <td>248676</td>\n",
       "      <td>NaN</td>\n",
       "    </tr>\n",
       "    <tr>\n",
       "      <th>2</th>\n",
       "      <td>1433221999827</td>\n",
       "      <td>111016</td>\n",
       "      <td>view</td>\n",
       "      <td>318965</td>\n",
       "      <td>NaN</td>\n",
       "    </tr>\n",
       "    <tr>\n",
       "      <th>3</th>\n",
       "      <td>1433221955914</td>\n",
       "      <td>483717</td>\n",
       "      <td>view</td>\n",
       "      <td>253185</td>\n",
       "      <td>NaN</td>\n",
       "    </tr>\n",
       "    <tr>\n",
       "      <th>4</th>\n",
       "      <td>1433221337106</td>\n",
       "      <td>951259</td>\n",
       "      <td>view</td>\n",
       "      <td>367447</td>\n",
       "      <td>NaN</td>\n",
       "    </tr>\n",
       "  </tbody>\n",
       "</table>\n",
       "</div>"
      ],
      "text/plain": [
       "       timestamp  visitorid event  itemid  transactionid\n",
       "0  1433221332117     257597  view  355908            NaN\n",
       "1  1433224214164     992329  view  248676            NaN\n",
       "2  1433221999827     111016  view  318965            NaN\n",
       "3  1433221955914     483717  view  253185            NaN\n",
       "4  1433221337106     951259  view  367447            NaN"
      ]
     },
     "execution_count": 4,
     "metadata": {},
     "output_type": "execute_result"
    }
   ],
   "source": [
    "print(events.shape)\n",
    "events.head(5)"
   ]
  },
  {
   "cell_type": "code",
   "execution_count": 5,
   "metadata": {},
   "outputs": [
    {
     "name": "stdout",
     "output_type": "stream",
     "text": [
      "(1669, 2)\n"
     ]
    },
    {
     "data": {
      "text/html": [
       "<div>\n",
       "<style scoped>\n",
       "    .dataframe tbody tr th:only-of-type {\n",
       "        vertical-align: middle;\n",
       "    }\n",
       "\n",
       "    .dataframe tbody tr th {\n",
       "        vertical-align: top;\n",
       "    }\n",
       "\n",
       "    .dataframe thead th {\n",
       "        text-align: right;\n",
       "    }\n",
       "</style>\n",
       "<table border=\"1\" class=\"dataframe\">\n",
       "  <thead>\n",
       "    <tr style=\"text-align: right;\">\n",
       "      <th></th>\n",
       "      <th>categoryid</th>\n",
       "      <th>parentid</th>\n",
       "    </tr>\n",
       "  </thead>\n",
       "  <tbody>\n",
       "    <tr>\n",
       "      <th>0</th>\n",
       "      <td>1016</td>\n",
       "      <td>213.0</td>\n",
       "    </tr>\n",
       "    <tr>\n",
       "      <th>1</th>\n",
       "      <td>809</td>\n",
       "      <td>169.0</td>\n",
       "    </tr>\n",
       "    <tr>\n",
       "      <th>2</th>\n",
       "      <td>570</td>\n",
       "      <td>9.0</td>\n",
       "    </tr>\n",
       "    <tr>\n",
       "      <th>3</th>\n",
       "      <td>1691</td>\n",
       "      <td>885.0</td>\n",
       "    </tr>\n",
       "    <tr>\n",
       "      <th>4</th>\n",
       "      <td>536</td>\n",
       "      <td>1691.0</td>\n",
       "    </tr>\n",
       "  </tbody>\n",
       "</table>\n",
       "</div>"
      ],
      "text/plain": [
       "   categoryid  parentid\n",
       "0        1016     213.0\n",
       "1         809     169.0\n",
       "2         570       9.0\n",
       "3        1691     885.0\n",
       "4         536    1691.0"
      ]
     },
     "execution_count": 5,
     "metadata": {},
     "output_type": "execute_result"
    }
   ],
   "source": [
    "print(category_tree.shape)\n",
    "category_tree.head(5)"
   ]
  },
  {
   "cell_type": "markdown",
   "metadata": {},
   "source": [
    "Посмотрим сколько уникальных транзакций и транзакций в целом:"
   ]
  },
  {
   "cell_type": "code",
   "execution_count": 6,
   "metadata": {},
   "outputs": [
    {
     "name": "stdout",
     "output_type": "stream",
     "text": [
      "17672\n",
      "22457\n"
     ]
    }
   ],
   "source": [
    "print(events[\"transactionid\"].dropna().unique().shape[0])\n",
    "print(events[\"transactionid\"].dropna().shape[0])"
   ]
  },
  {
   "cell_type": "markdown",
   "metadata": {},
   "source": [
    "Видно, что большая часть транзакций была разовая и всего около 5 тыс. транзакий повторялись. Следовательно, использовать метод анализа рыночной корзины(MBA) не получится."
   ]
  },
  {
   "cell_type": "markdown",
   "metadata": {},
   "source": [
    "Посмторим количество уникальных товаров:"
   ]
  },
  {
   "cell_type": "code",
   "execution_count": 7,
   "metadata": {},
   "outputs": [
    {
     "name": "stdout",
     "output_type": "stream",
     "text": [
      "235061\n"
     ]
    }
   ],
   "source": [
    "print(events[\"itemid\"].unique().shape[0])"
   ]
  },
  {
   "cell_type": "markdown",
   "metadata": {},
   "source": [
    "Посмотрим на баланс действий:"
   ]
  },
  {
   "cell_type": "code",
   "execution_count": 4,
   "metadata": {},
   "outputs": [
    {
     "name": "stdout",
     "output_type": "stream",
     "text": [
      "event\n",
      "view           2664312\n",
      "addtocart        69332\n",
      "transaction      22457\n",
      "Name: count, dtype: int64\n"
     ]
    },
    {
     "data": {
      "text/plain": [
       "<Axes: title={'center': 'Add-to-cart V/s Transaction'}, xlabel='event'>"
      ]
     },
     "execution_count": 4,
     "metadata": {},
     "output_type": "execute_result"
    },
    {
     "data": {
      "image/png": "[encoded data removed]",
      "text/plain": [
       "<Figure size 1500x500 with 2 Axes>"
      ]
     },
     "metadata": {},
     "output_type": "display_data"
    }
   ],
   "source": [
    "events_count=events[\"event\"].value_counts()\n",
    "fig, axs = plt.subplots(ncols=2,figsize=(15, 5))\n",
    "sns.barplot(x=events_count.index, y=events_count.values, ax=axs[0])\n",
    "\n",
    "print(events_count)\n",
    "\n",
    "events_count=events[\"event\"].value_counts()[1:]\n",
    "plt.title('Add-to-cart V/s Transaction')\n",
    "sns.barplot(x=events_count.index, y=events_count.values)"
   ]
  },
  {
   "cell_type": "markdown",
   "metadata": {},
   "source": [
    "Как видно просмотров на порядки больше чем, транзакций и добавлений в корзину. Транзакции составлют примерно треть от добавлений в корзину."
   ]
  },
  {
   "cell_type": "code",
   "execution_count": 9,
   "metadata": {},
   "outputs": [
    {
     "data": {
      "image/png": "[encoded data removed]",
      "text/plain": [
       "<Figure size 500x500 with 1 Axes>"
      ]
     },
     "metadata": {},
     "output_type": "display_data"
    }
   ],
   "source": [
    "data = events.event.value_counts()\n",
    "labels = data.index\n",
    "sizes = data.values\n",
    "explode = (0, 0.05, 0.15)\n",
    "fig, ax = plt.subplots(figsize=(5,5))\n",
    "\n",
    "patches, texts, autotexts = ax.pie(sizes, labels=labels, explode=explode, autopct='%1.2f%%', shadow=False, startangle=0) \n",
    "\n",
    "ax.axis('equal')\n",
    "plt.show()"
   ]
  },
  {
   "cell_type": "markdown",
   "metadata": {},
   "source": [
    "Посмотрим на самые просматриваемые товары: "
   ]
  },
  {
   "cell_type": "code",
   "execution_count": 10,
   "metadata": {},
   "outputs": [
    {
     "data": {
      "text/plain": [
       "<Axes: >"
      ]
     },
     "execution_count": 10,
     "metadata": {},
     "output_type": "execute_result"
    },
    {
     "data": {
      "image/png": "[encoded data removed]",
      "text/plain": [
       "<Figure size 1500x500 with 1 Axes>"
      ]
     },
     "metadata": {},
     "output_type": "display_data"
    }
   ],
   "source": [
    "grouped=events.groupby('event')['itemid'].apply(list)\n",
    "\n",
    "views=grouped['view']\n",
    "count_view={}\n",
    "views=np.array(views[:]) \n",
    "\n",
    "unique, counts = np.unique(views, return_counts=True)\n",
    "count_view=dict(zip(unique, counts))\n",
    "sorted_count_view =sorted(count_view.items(), key=operator.itemgetter(1),reverse=True)\n",
    "x=[i[0] for i in sorted_count_view[:5]]\n",
    "y=[i[1] for i in sorted_count_view[:5]]\n",
    "\n",
    "fig, ax = plt.subplots(figsize=(15,5))\n",
    "sns.barplot(x=x,y=y,order=x)"
   ]
  },
  {
   "cell_type": "markdown",
   "metadata": {},
   "source": [
    "Самые добавляемые товары:"
   ]
  },
  {
   "cell_type": "code",
   "execution_count": 11,
   "metadata": {},
   "outputs": [
    {
     "data": {
      "text/plain": [
       "<Axes: >"
      ]
     },
     "execution_count": 11,
     "metadata": {},
     "output_type": "execute_result"
    },
    {
     "data": {
      "image/png": "[encoded data removed]",
      "text/plain": [
       "<Figure size 1500x500 with 1 Axes>"
      ]
     },
     "metadata": {},
     "output_type": "display_data"
    }
   ],
   "source": [
    "addtocart=grouped['addtocart']\n",
    "count_addtocart={}\n",
    "\n",
    "addtocart=np.array(addtocart[:])\n",
    "unique, counts = np.unique(addtocart, return_counts=True)\n",
    "count_addtocart=dict(zip(unique, counts))\n",
    "\n",
    "sorted_count_addtocart =sorted(count_addtocart.items(), key=operator.itemgetter(1),reverse=True)\n",
    "x=[i[0] for i in sorted_count_addtocart[:5]]\n",
    "y=[i[1] for i in sorted_count_addtocart[:5]]\n",
    "\n",
    "fig, ax = plt.subplots(figsize=(15,5))\n",
    "sns.barplot(x=x,y=y, order=x)"
   ]
  },
  {
   "cell_type": "markdown",
   "metadata": {},
   "source": [
    "Самые продаваемые товары:"
   ]
  },
  {
   "cell_type": "code",
   "execution_count": 12,
   "metadata": {},
   "outputs": [
    {
     "data": {
      "text/plain": [
       "<Axes: >"
      ]
     },
     "execution_count": 12,
     "metadata": {},
     "output_type": "execute_result"
    },
    {
     "data": {
      "image/png": "[encoded data removed]",
      "text/plain": [
       "<Figure size 1500x500 with 1 Axes>"
      ]
     },
     "metadata": {},
     "output_type": "display_data"
    }
   ],
   "source": [
    "transaction=grouped['transaction']\n",
    "count_transaction={}\n",
    "\n",
    "transaction=np.array(transaction[:])\n",
    "unique, counts = np.unique(transaction, return_counts=True)\n",
    "count_transaction=dict(zip(unique, counts))\n",
    "\n",
    "sorted_count_transaction =sorted(count_transaction.items(), key=operator.itemgetter(1),reverse=True)\n",
    "x=[i[0] for i in sorted_count_transaction[:5]]\n",
    "y=[i[1] for i in sorted_count_transaction[:5]]\n",
    "\n",
    "fig, ax = plt.subplots(figsize=(15,5))\n",
    "sns.barplot(x=x,y=y, order=x)"
   ]
  },
  {
   "cell_type": "markdown",
   "metadata": {},
   "source": [
    "## Model"
   ]
  },
  {
   "cell_type": "code",
   "execution_count": 5,
   "metadata": {},
   "outputs": [
    {
     "name": "stderr",
     "output_type": "stream",
     "text": [
      "d:\\python 3.10\\lib\\site-packages\\lightfm\\_lightfm_fast.py:9: UserWarning: LightFM was compiled without OpenMP support. Only a single thread will be used.\n",
      "  warnings.warn(\n"
     ]
    }
   ],
   "source": [
    "from lightfm import LightFM\n",
    "from lightfm.evaluation import auc_score\n",
    "from scipy.sparse import coo_matrix, csr_matrix\n",
    "from sklearn import preprocessing\n",
    "import datetime"
   ]
  },
  {
   "cell_type": "code",
   "execution_count": 6,
   "metadata": {},
   "outputs": [
    {
     "data": {
      "text/html": [
       "<div>\n",
       "<style scoped>\n",
       "    .dataframe tbody tr th:only-of-type {\n",
       "        vertical-align: middle;\n",
       "    }\n",
       "\n",
       "    .dataframe tbody tr th {\n",
       "        vertical-align: top;\n",
       "    }\n",
       "\n",
       "    .dataframe thead th {\n",
       "        text-align: right;\n",
       "    }\n",
       "</style>\n",
       "<table border=\"1\" class=\"dataframe\">\n",
       "  <thead>\n",
       "    <tr style=\"text-align: right;\">\n",
       "      <th></th>\n",
       "      <th>visitorid</th>\n",
       "      <th>itemid</th>\n",
       "      <th>event</th>\n",
       "      <th>date</th>\n",
       "    </tr>\n",
       "  </thead>\n",
       "  <tbody>\n",
       "    <tr>\n",
       "      <th>0</th>\n",
       "      <td>567743</td>\n",
       "      <td>42875</td>\n",
       "      <td>view</td>\n",
       "      <td>2015-05-03</td>\n",
       "    </tr>\n",
       "    <tr>\n",
       "      <th>1</th>\n",
       "      <td>190672</td>\n",
       "      <td>259357</td>\n",
       "      <td>view</td>\n",
       "      <td>2015-05-03</td>\n",
       "    </tr>\n",
       "    <tr>\n",
       "      <th>2</th>\n",
       "      <td>1127598</td>\n",
       "      <td>69533</td>\n",
       "      <td>view</td>\n",
       "      <td>2015-05-03</td>\n",
       "    </tr>\n",
       "    <tr>\n",
       "      <th>3</th>\n",
       "      <td>180270</td>\n",
       "      <td>379359</td>\n",
       "      <td>view</td>\n",
       "      <td>2015-05-03</td>\n",
       "    </tr>\n",
       "    <tr>\n",
       "      <th>4</th>\n",
       "      <td>425526</td>\n",
       "      <td>440984</td>\n",
       "      <td>view</td>\n",
       "      <td>2015-05-03</td>\n",
       "    </tr>\n",
       "  </tbody>\n",
       "</table>\n",
       "</div>"
      ],
      "text/plain": [
       "   visitorid  itemid event        date\n",
       "0     567743   42875  view  2015-05-03\n",
       "1     190672  259357  view  2015-05-03\n",
       "2    1127598   69533  view  2015-05-03\n",
       "3     180270  379359  view  2015-05-03\n",
       "4     425526  440984  view  2015-05-03"
      ]
     },
     "execution_count": 6,
     "metadata": {},
     "output_type": "execute_result"
    }
   ],
   "source": [
    "events = events.assign(date=pd.Series(datetime.datetime.fromtimestamp(i/1000).date() for i in events.timestamp))\n",
    "events = events.sort_values('date').reset_index(drop=True)\n",
    "events = events[['visitorid','itemid','event', 'date']]\n",
    "events.head(5)"
   ]
  },
  {
   "cell_type": "code",
   "execution_count": 7,
   "metadata": {},
   "outputs": [],
   "source": [
    "start_date = '2015-5-3'\n",
    "end_date = '2015-5-18'\n",
    "fd = lambda x: datetime.datetime.strptime(x, '%Y-%m-%d').date()\n",
    "events = events[(events.date >= fd(start_date)) & (events.date <= fd(end_date))]"
   ]
  },
  {
   "cell_type": "markdown",
   "metadata": {},
   "source": [
    "Сделаем сплит по времени(80/20):"
   ]
  },
  {
   "cell_type": "code",
   "execution_count": 8,
   "metadata": {},
   "outputs": [],
   "source": [
    "split_point = int(np.round(events.shape[0]*0.8))\n",
    "events_train = events.iloc[0:split_point]\n",
    "events_test = events.iloc[split_point::]\n",
    "events_test = events_test[(events_test['visitorid'].isin(events_train['visitorid']))\n",
    "                          & (events_test['itemid'].isin(events_train['itemid']))]"
   ]
  },
  {
   "cell_type": "code",
   "execution_count": 9,
   "metadata": {},
   "outputs": [
    {
     "name": "stdout",
     "output_type": "stream",
     "text": [
      "254480\n",
      "10536\n"
     ]
    }
   ],
   "source": [
    "print(events_train.shape[0])\n",
    "print(events_test.shape[0])"
   ]
  },
  {
   "cell_type": "markdown",
   "metadata": {},
   "source": [
    "Закодируем признаки:"
   ]
  },
  {
   "cell_type": "code",
   "execution_count": 10,
   "metadata": {},
   "outputs": [],
   "source": [
    "id_cols=['visitorid','itemid']\n",
    "trans_cat_train=dict()\n",
    "trans_cat_test=dict()\n",
    "\n",
    "for k in id_cols:\n",
    "    cate_enc=preprocessing.LabelEncoder()\n",
    "    trans_cat_train[k]=cate_enc.fit_transform(events_train[k].values)\n",
    "    trans_cat_test[k]=cate_enc.transform(events_test[k].values)"
   ]
  },
  {
   "cell_type": "code",
   "execution_count": 11,
   "metadata": {},
   "outputs": [],
   "source": [
    "ratings = dict()\n",
    "\n",
    "cate_enc=preprocessing.LabelEncoder()\n",
    "ratings['train'] = cate_enc.fit_transform(events_train.event)\n",
    "ratings['test'] = cate_enc.transform(events_test.event)"
   ]
  },
  {
   "cell_type": "markdown",
   "metadata": {},
   "source": [
    "Создадим матрицу item-users:"
   ]
  },
  {
   "cell_type": "code",
   "execution_count": 13,
   "metadata": {},
   "outputs": [],
   "source": [
    "n_users=len(np.unique(trans_cat_train['visitorid']))\n",
    "n_items=len(np.unique(trans_cat_train['itemid']))"
   ]
  },
  {
   "cell_type": "code",
   "execution_count": 14,
   "metadata": {},
   "outputs": [],
   "source": [
    "rate_matrix = dict()\n",
    "\n",
    "#используем разреженные матрицы\n",
    "rate_matrix['train'] = csr_matrix((ratings['train'],\n",
    "                                   (trans_cat_train['visitorid'],\n",
    "                                    trans_cat_train['itemid'])),\n",
    "                                  shape=(n_users,n_items)\n",
    "                                  )\n",
    "\n",
    "rate_matrix['test'] = csr_matrix((ratings['test'],\n",
    "                                  (trans_cat_test['visitorid'],\n",
    "                                   trans_cat_test['itemid'])),\n",
    "                                 shape=(n_users,n_items)\n",
    "                                 )"
   ]
  },
  {
   "cell_type": "markdown",
   "metadata": {},
   "source": [
    "Используем LightFM для матричной факторизации:"
   ]
  },
  {
   "cell_type": "code",
   "execution_count": 15,
   "metadata": {},
   "outputs": [
    {
     "data": {
      "text/plain": [
       "<lightfm.lightfm.LightFM at 0x1a252706590>"
      ]
     },
     "execution_count": 15,
     "metadata": {},
     "output_type": "execute_result"
    }
   ],
   "source": [
    "model = LightFM(no_components=10, loss='logistic', random_state=42)\n",
    "model.fit(rate_matrix['train'], epochs=50)"
   ]
  },
  {
   "cell_type": "code",
   "execution_count": 23,
   "metadata": {},
   "outputs": [],
   "source": [
    "#auc_score(model, rate_matrix['train']).mean()"
   ]
  },
  {
   "cell_type": "code",
   "execution_count": 16,
   "metadata": {},
   "outputs": [
    {
     "data": {
      "text/plain": [
       "0.7935716"
      ]
     },
     "execution_count": 16,
     "metadata": {},
     "output_type": "execute_result"
    }
   ],
   "source": [
    "auc_score(model, rate_matrix['test']).mean()"
   ]
  },
  {
   "cell_type": "code",
   "execution_count": 17,
   "metadata": {},
   "outputs": [],
   "source": [
    "from lightfm.evaluation import precision_at_k"
   ]
  },
  {
   "cell_type": "code",
   "execution_count": 18,
   "metadata": {},
   "outputs": [
    {
     "name": "stdout",
     "output_type": "stream",
     "text": [
      "Mean Average Precision at 10: 0.00061\n"
     ]
    }
   ],
   "source": [
    "map_at10 = precision_at_k(model, rate_matrix['test'], k=3).mean()\n",
    "print('Mean Average Precision at 10: {:.5f}'.format(map_at10))"
   ]
  },
  {
   "cell_type": "code",
   "execution_count": 21,
   "metadata": {},
   "outputs": [
    {
     "name": "stdout",
     "output_type": "stream",
     "text": [
      "Recomendations for user 1: [56791 45692 51440 31061 67224 14805 20473 23136 14032 48737]\n"
     ]
    }
   ],
   "source": [
    "unique_items = np.unique(trans_cat_train['itemid'])\n",
    "item_ids = np.arange(0, rate_matrix['train'].shape[1])\n",
    "user_id = 1\n",
    "list_pred = model.predict(user_id, item_ids)\n",
    "recomendations_ids = np.argsort(-list_pred)[:10]\n",
    "recomendations = unique_items[recomendations_ids]\n",
    "print('Recomendations for user {}: {}'.format(user_id, recomendations))"
   ]
  },
  {
   "cell_type": "code",
   "execution_count": 19,
   "metadata": {},
   "outputs": [
    {
     "data": {
      "application/vnd.jupyter.widget-view+json": {
       "model_id": "28d49d1dbd004d5aa8959fbe396f4e0b",
       "version_major": 2,
       "version_minor": 0
      },
      "text/plain": [
       "  0%|          | 0/15 [00:00<?, ?it/s]"
      ]
     },
     "metadata": {},
     "output_type": "display_data"
    }
   ],
   "source": [
    "from implicit.als import AlternatingLeastSquares\n",
    "from implicit.evaluation import mean_average_precision_at_k\n",
    "\n",
    "model2 = AlternatingLeastSquares(factors=10, random_state=42)\n",
    "model2.fit(rate_matrix['train'])"
   ]
  },
  {
   "cell_type": "code",
   "execution_count": 22,
   "metadata": {},
   "outputs": [
    {
     "name": "stdout",
     "output_type": "stream",
     "text": [
      "Recomendations ids: [56602 52679 31132  9324 18259 36035 10178 52806  3972  6397]\n",
      "Recomendations for user 1: [56602 52679 31132  9324 18259 36035 10178 52806  3972  6397]\n"
     ]
    }
   ],
   "source": [
    "user_id = 1\n",
    "recomendations_ids, scores = model2.recommend(user_id, rate_matrix['train'][user_id])\n",
    "recomendations = unique_items[recomendations_ids]\n",
    "print('Recomendations ids: {}'.format(recomendations_ids))\n",
    "print('Recomendations for user {}: {}'.format(user_id, recomendations))"
   ]
  },
  {
   "cell_type": "code",
   "execution_count": 23,
   "metadata": {},
   "outputs": [
    {
     "data": {
      "application/vnd.jupyter.widget-view+json": {
       "model_id": "4c26b3d06942407fa01d9c70ec47e49b",
       "version_major": 2,
       "version_minor": 0
      },
      "text/plain": [
       "  0%|          | 0/3274 [00:00<?, ?it/s]"
      ]
     },
     "metadata": {},
     "output_type": "display_data"
    },
    {
     "name": "stdout",
     "output_type": "stream",
     "text": [
      "Mean Average Precision at 10: 0.00424\n"
     ]
    }
   ],
   "source": [
    "map_at10 = mean_average_precision_at_k(model2, rate_matrix['train'], rate_matrix['test'], K=3)\n",
    "print('Mean Average Precision at 10: {:.5f}'.format(map_at10))"
   ]
  },
  {
   "cell_type": "code",
   "execution_count": 29,
   "metadata": {},
   "outputs": [
    {
     "data": {
      "application/vnd.jupyter.widget-view+json": {
       "model_id": "2444ea57358d4e7c90cb96b9051db49b",
       "version_major": 2,
       "version_minor": 0
      },
      "text/plain": [
       "  0%|          | 0/3274 [00:00<?, ?it/s]"
      ]
     },
     "metadata": {},
     "output_type": "display_data"
    },
    {
     "data": {
      "text/plain": [
       "0.5150326379732526"
      ]
     },
     "execution_count": 29,
     "metadata": {},
     "output_type": "execute_result"
    }
   ],
   "source": [
    "from implicit.evaluation import AUC_at_k\n",
    "AUC_at_k(model2, rate_matrix['train'], rate_matrix['test'], K=100)"
   ]
  },
  {
   "cell_type": "code",
   "execution_count": 31,
   "metadata": {},
   "outputs": [],
   "source": [
    "import pickle\n",
    "\n",
    "with open('ALS_model.pkl', 'wb') as output:\n",
    "    pickle.dump(model2, output)"
   ]
  },
  {
   "cell_type": "code",
   "execution_count": 33,
   "metadata": {},
   "outputs": [],
   "source": [
    "with open('ALS_model.pkl', 'rb') as pkl_file:\n",
    "    ALS_from_file = pickle.load(pkl_file)"
   ]
  },
  {
   "cell_type": "code",
   "execution_count": 35,
   "metadata": {},
   "outputs": [
    {
     "name": "stdout",
     "output_type": "stream",
     "text": [
      "Recomendations ids: [56602 52679 31132  9324 18259 36035 10178 52806  3972  6397]\n",
      "Recomendations for user 1: [56602 52679 31132  9324 18259 36035 10178 52806  3972  6397]\n"
     ]
    }
   ],
   "source": [
    "user_id = 1\n",
    "recomendations_ids, scores = ALS_from_file.recommend(user_id, rate_matrix['train'][user_id])\n",
    "recomendations = unique_items[recomendations_ids]\n",
    "print('Recomendations ids: {}'.format(recomendations_ids))\n",
    "print('Recomendations for user {}: {}'.format(user_id, recomendations))"
   ]
  },
  {
   "cell_type": "code",
   "execution_count": 40,
   "metadata": {},
   "outputs": [],
   "source": [
    "with open('unique_items.pkl', 'wb') as output:\n",
    "    pickle.dump(unique_items, output)"
   ]
  },
  {
   "cell_type": "code",
   "execution_count": 43,
   "metadata": {},
   "outputs": [
    {
     "name": "stdout",
     "output_type": "stream",
     "text": [
      "Recomendations ids: [ 5611 68172 48996   971 41818 63359 52679  3972 13646 18792]\n",
      "Recomendations for user 44: [ 5611 68172 48996   971 41818 63359 52679  3972 13646 18792]\n"
     ]
    }
   ],
   "source": [
    "with open('rate_matrix.pkl', 'rb') as pkl_file2:\n",
    "    rate_matrix_from_file = pickle.load(pkl_file2)\n",
    "    \n",
    "user_id = 44\n",
    "recomendations_ids, scores = ALS_from_file.recommend(user_id, rate_matrix_from_file[user_id])\n",
    "recomendations = unique_items[recomendations_ids]\n",
    "print('Recomendations ids: {}'.format(recomendations_ids))\n",
    "print('Recomendations for user {}: {}'.format(user_id, recomendations))"
   ]
  },
  {
   "cell_type": "code",
   "execution_count": 55,
   "metadata": {},
   "outputs": [],
   "source": [
    "with open('rate_matrix.pkl', 'rb') as pkl_file:\n",
    "    rate_matrix = pickle.load(pkl_file)"
   ]
  },
  {
   "cell_type": "code",
   "execution_count": 47,
   "metadata": {},
   "outputs": [],
   "source": [
    "with open('unique_items.pkl', 'rb') as pkl_file2:\n",
    "    unique_items_from_file = pickle.load(pkl_file2)"
   ]
  }
 ],
 "metadata": {
  "kernelspec": {
   "display_name": "Python 3",
   "language": "python",
   "name": "python3"
  },
  "language_info": {
   "codemirror_mode": {
    "name": "ipython",
    "version": 3
   },
   "file_extension": ".py",
   "mimetype": "text/x-python",
   "name": "python",
   "nbconvert_exporter": "python",
   "pygments_lexer": "ipython3",
   "version": "3.10.11"
  },
  "orig_nbformat": 4
 },
 "nbformat": 4,
 "nbformat_minor": 2
}
