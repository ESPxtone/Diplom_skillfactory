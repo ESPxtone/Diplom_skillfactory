{
 "cells": [
  {
   "cell_type": "markdown",
   "metadata": {},
   "source": [
    "# Документация "
   ]
  },
  {
   "cell_type": "code",
   "execution_count": 10,
   "metadata": {},
   "outputs": [],
   "source": [
    "import pandas as pd\n",
    "import datetime\n",
    "import numpy as np\n",
    "from sklearn import preprocessing\n",
    "from scipy.sparse import csr_matrix"
   ]
  },
  {
   "cell_type": "markdown",
   "metadata": {},
   "source": [
    "## Описание входныхх данных"
   ]
  },
  {
   "cell_type": "markdown",
   "metadata": {},
   "source": [
    "Для обучения используется только таблица events:"
   ]
  },
  {
   "cell_type": "code",
   "execution_count": 2,
   "metadata": {},
   "outputs": [
    {
     "name": "stdout",
     "output_type": "stream",
     "text": [
      "(2756101, 5)\n"
     ]
    },
    {
     "data": {
      "text/html": [
       "<div>\n",
       "<style scoped>\n",
       "    .dataframe tbody tr th:only-of-type {\n",
       "        vertical-align: middle;\n",
       "    }\n",
       "\n",
       "    .dataframe tbody tr th {\n",
       "        vertical-align: top;\n",
       "    }\n",
       "\n",
       "    .dataframe thead th {\n",
       "        text-align: right;\n",
       "    }\n",
       "</style>\n",
       "<table border=\"1\" class=\"dataframe\">\n",
       "  <thead>\n",
       "    <tr style=\"text-align: right;\">\n",
       "      <th></th>\n",
       "      <th>timestamp</th>\n",
       "      <th>visitorid</th>\n",
       "      <th>event</th>\n",
       "      <th>itemid</th>\n",
       "      <th>transactionid</th>\n",
       "    </tr>\n",
       "  </thead>\n",
       "  <tbody>\n",
       "    <tr>\n",
       "      <th>0</th>\n",
       "      <td>1433221332117</td>\n",
       "      <td>257597</td>\n",
       "      <td>view</td>\n",
       "      <td>355908</td>\n",
       "      <td>NaN</td>\n",
       "    </tr>\n",
       "    <tr>\n",
       "      <th>1</th>\n",
       "      <td>1433224214164</td>\n",
       "      <td>992329</td>\n",
       "      <td>view</td>\n",
       "      <td>248676</td>\n",
       "      <td>NaN</td>\n",
       "    </tr>\n",
       "    <tr>\n",
       "      <th>2</th>\n",
       "      <td>1433221999827</td>\n",
       "      <td>111016</td>\n",
       "      <td>view</td>\n",
       "      <td>318965</td>\n",
       "      <td>NaN</td>\n",
       "    </tr>\n",
       "    <tr>\n",
       "      <th>3</th>\n",
       "      <td>1433221955914</td>\n",
       "      <td>483717</td>\n",
       "      <td>view</td>\n",
       "      <td>253185</td>\n",
       "      <td>NaN</td>\n",
       "    </tr>\n",
       "    <tr>\n",
       "      <th>4</th>\n",
       "      <td>1433221337106</td>\n",
       "      <td>951259</td>\n",
       "      <td>view</td>\n",
       "      <td>367447</td>\n",
       "      <td>NaN</td>\n",
       "    </tr>\n",
       "    <tr>\n",
       "      <th>...</th>\n",
       "      <td>...</td>\n",
       "      <td>...</td>\n",
       "      <td>...</td>\n",
       "      <td>...</td>\n",
       "      <td>...</td>\n",
       "    </tr>\n",
       "    <tr>\n",
       "      <th>2756096</th>\n",
       "      <td>1438398785939</td>\n",
       "      <td>591435</td>\n",
       "      <td>view</td>\n",
       "      <td>261427</td>\n",
       "      <td>NaN</td>\n",
       "    </tr>\n",
       "    <tr>\n",
       "      <th>2756097</th>\n",
       "      <td>1438399813142</td>\n",
       "      <td>762376</td>\n",
       "      <td>view</td>\n",
       "      <td>115946</td>\n",
       "      <td>NaN</td>\n",
       "    </tr>\n",
       "    <tr>\n",
       "      <th>2756098</th>\n",
       "      <td>1438397820527</td>\n",
       "      <td>1251746</td>\n",
       "      <td>view</td>\n",
       "      <td>78144</td>\n",
       "      <td>NaN</td>\n",
       "    </tr>\n",
       "    <tr>\n",
       "      <th>2756099</th>\n",
       "      <td>1438398530703</td>\n",
       "      <td>1184451</td>\n",
       "      <td>view</td>\n",
       "      <td>283392</td>\n",
       "      <td>NaN</td>\n",
       "    </tr>\n",
       "    <tr>\n",
       "      <th>2756100</th>\n",
       "      <td>1438400163914</td>\n",
       "      <td>199536</td>\n",
       "      <td>view</td>\n",
       "      <td>152913</td>\n",
       "      <td>NaN</td>\n",
       "    </tr>\n",
       "  </tbody>\n",
       "</table>\n",
       "<p>2756101 rows × 5 columns</p>\n",
       "</div>"
      ],
      "text/plain": [
       "             timestamp  visitorid event  itemid  transactionid\n",
       "0        1433221332117     257597  view  355908            NaN\n",
       "1        1433224214164     992329  view  248676            NaN\n",
       "2        1433221999827     111016  view  318965            NaN\n",
       "3        1433221955914     483717  view  253185            NaN\n",
       "4        1433221337106     951259  view  367447            NaN\n",
       "...                ...        ...   ...     ...            ...\n",
       "2756096  1438398785939     591435  view  261427            NaN\n",
       "2756097  1438399813142     762376  view  115946            NaN\n",
       "2756098  1438397820527    1251746  view   78144            NaN\n",
       "2756099  1438398530703    1184451  view  283392            NaN\n",
       "2756100  1438400163914     199536  view  152913            NaN\n",
       "\n",
       "[2756101 rows x 5 columns]"
      ]
     },
     "metadata": {},
     "output_type": "display_data"
    }
   ],
   "source": [
    "events = pd.read_csv('events.csv')\n",
    "print(events.shape)\n",
    "display(events)"
   ]
  },
  {
   "cell_type": "markdown",
   "metadata": {},
   "source": [
    "## Трансформации исходного датасета: "
   ]
  },
  {
   "cell_type": "markdown",
   "metadata": {},
   "source": [
    "Сортировка и перевод в формат datatime:"
   ]
  },
  {
   "cell_type": "code",
   "execution_count": 4,
   "metadata": {},
   "outputs": [
    {
     "data": {
      "text/html": [
       "<div>\n",
       "<style scoped>\n",
       "    .dataframe tbody tr th:only-of-type {\n",
       "        vertical-align: middle;\n",
       "    }\n",
       "\n",
       "    .dataframe tbody tr th {\n",
       "        vertical-align: top;\n",
       "    }\n",
       "\n",
       "    .dataframe thead th {\n",
       "        text-align: right;\n",
       "    }\n",
       "</style>\n",
       "<table border=\"1\" class=\"dataframe\">\n",
       "  <thead>\n",
       "    <tr style=\"text-align: right;\">\n",
       "      <th></th>\n",
       "      <th>visitorid</th>\n",
       "      <th>itemid</th>\n",
       "      <th>event</th>\n",
       "      <th>date</th>\n",
       "    </tr>\n",
       "  </thead>\n",
       "  <tbody>\n",
       "    <tr>\n",
       "      <th>0</th>\n",
       "      <td>567743</td>\n",
       "      <td>42875</td>\n",
       "      <td>view</td>\n",
       "      <td>2015-05-03</td>\n",
       "    </tr>\n",
       "    <tr>\n",
       "      <th>1</th>\n",
       "      <td>190672</td>\n",
       "      <td>259357</td>\n",
       "      <td>view</td>\n",
       "      <td>2015-05-03</td>\n",
       "    </tr>\n",
       "    <tr>\n",
       "      <th>2</th>\n",
       "      <td>1127598</td>\n",
       "      <td>69533</td>\n",
       "      <td>view</td>\n",
       "      <td>2015-05-03</td>\n",
       "    </tr>\n",
       "    <tr>\n",
       "      <th>3</th>\n",
       "      <td>180270</td>\n",
       "      <td>379359</td>\n",
       "      <td>view</td>\n",
       "      <td>2015-05-03</td>\n",
       "    </tr>\n",
       "    <tr>\n",
       "      <th>4</th>\n",
       "      <td>425526</td>\n",
       "      <td>440984</td>\n",
       "      <td>view</td>\n",
       "      <td>2015-05-03</td>\n",
       "    </tr>\n",
       "  </tbody>\n",
       "</table>\n",
       "</div>"
      ],
      "text/plain": [
       "   visitorid  itemid event        date\n",
       "0     567743   42875  view  2015-05-03\n",
       "1     190672  259357  view  2015-05-03\n",
       "2    1127598   69533  view  2015-05-03\n",
       "3     180270  379359  view  2015-05-03\n",
       "4     425526  440984  view  2015-05-03"
      ]
     },
     "execution_count": 4,
     "metadata": {},
     "output_type": "execute_result"
    }
   ],
   "source": [
    "events = events.assign(date=pd.Series(datetime.datetime.fromtimestamp(i/1000).date() for i in events.timestamp))\n",
    "events = events.sort_values('date').reset_index(drop=True)\n",
    "events = events[['visitorid','itemid','event', 'date']]\n",
    "events.head(5)"
   ]
  },
  {
   "cell_type": "markdown",
   "metadata": {},
   "source": [
    "Фильтруем данные по времени событий:"
   ]
  },
  {
   "cell_type": "code",
   "execution_count": 5,
   "metadata": {},
   "outputs": [],
   "source": [
    "start_date = '2015-5-3'\n",
    "end_date = '2015-5-18'\n",
    "fd = lambda x: datetime.datetime.strptime(x, '%Y-%m-%d').date()\n",
    "events = events[(events.date >= fd(start_date)) & (events.date <= fd(end_date))]"
   ]
  },
  {
   "cell_type": "markdown",
   "metadata": {},
   "source": [
    "Сплитем датасет на обучение и тест для валидации:"
   ]
  },
  {
   "cell_type": "code",
   "execution_count": 7,
   "metadata": {},
   "outputs": [],
   "source": [
    "split_point = int(np.round(events.shape[0]*0.8))\n",
    "events_train = events.iloc[0:split_point]\n",
    "events_test = events.iloc[split_point::]\n",
    "events_test = events_test[(events_test['visitorid'].isin(events_train['visitorid']))\n",
    "                          & (events_test['itemid'].isin(events_train['itemid']))]"
   ]
  },
  {
   "cell_type": "markdown",
   "metadata": {},
   "source": [
    "Кодируем признаки, чтобы использовать их в качестве оценок:"
   ]
  },
  {
   "cell_type": "code",
   "execution_count": 9,
   "metadata": {},
   "outputs": [],
   "source": [
    "id_cols=['visitorid','itemid']\n",
    "trans_cat_train=dict()\n",
    "trans_cat_test=dict()\n",
    "\n",
    "for k in id_cols:\n",
    "    cate_enc=preprocessing.LabelEncoder()\n",
    "    trans_cat_train[k]=cate_enc.fit_transform(events_train[k].values)\n",
    "    trans_cat_test[k]=cate_enc.transform(events_test[k].values)\n",
    "    \n",
    "ratings = dict()\n",
    "\n",
    "cate_enc=preprocessing.LabelEncoder()\n",
    "ratings['train'] = cate_enc.fit_transform(events_train.event)\n",
    "ratings['test'] = cate_enc.transform(events_test.event)    "
   ]
  },
  {
   "cell_type": "markdown",
   "metadata": {},
   "source": [
    "Создаём item-users sparse-матрицу:"
   ]
  },
  {
   "cell_type": "code",
   "execution_count": 12,
   "metadata": {},
   "outputs": [],
   "source": [
    "n_users=len(np.unique(trans_cat_train['visitorid']))\n",
    "n_items=len(np.unique(trans_cat_train['itemid']))\n",
    "\n",
    "rate_matrix = dict()\n",
    "\n",
    "#используем разреженные матрицы\n",
    "rate_matrix['train'] = csr_matrix((ratings['train'],\n",
    "                                   (trans_cat_train['visitorid'],\n",
    "                                    trans_cat_train['itemid'])),\n",
    "                                  shape=(n_users,n_items)\n",
    "                                  )\n",
    "\n",
    "rate_matrix['test'] = csr_matrix((ratings['test'],\n",
    "                                  (trans_cat_test['visitorid'],\n",
    "                                   trans_cat_test['itemid'])),\n",
    "                                 shape=(n_users,n_items)\n",
    "                                 )"
   ]
  },
  {
   "cell_type": "markdown",
   "metadata": {},
   "source": [
    "## Параметры модели и метрики качества"
   ]
  },
  {
   "cell_type": "markdown",
   "metadata": {},
   "source": [
    "В качестве модели использовалась ALS:"
   ]
  },
  {
   "cell_type": "code",
   "execution_count": 13,
   "metadata": {},
   "outputs": [],
   "source": [
    "# модель\n",
    "from implicit.als import AlternatingLeastSquares\n",
    "# для оценки метрик\n",
    "from implicit.evaluation import mean_average_precision_at_k\n",
    "from implicit.evaluation import AUC_at_k"
   ]
  },
  {
   "cell_type": "code",
   "execution_count": 14,
   "metadata": {},
   "outputs": [
    {
     "data": {
      "application/vnd.jupyter.widget-view+json": {
       "model_id": "b55d48c321cc4cc9a80000fe24a6916e",
       "version_major": 2,
       "version_minor": 0
      },
      "text/plain": [
       "  0%|          | 0/15 [00:00<?, ?it/s]"
      ]
     },
     "metadata": {},
     "output_type": "display_data"
    }
   ],
   "source": [
    "ALS_model = AlternatingLeastSquares(factors=10, random_state=42)\n",
    "ALS_model.fit(rate_matrix['train'])"
   ]
  },
  {
   "cell_type": "markdown",
   "metadata": {},
   "source": [
    "Получение рекомендаций:"
   ]
  },
  {
   "cell_type": "code",
   "execution_count": 15,
   "metadata": {},
   "outputs": [
    {
     "name": "stdout",
     "output_type": "stream",
     "text": [
      "Recomendations for user 1: [56602 52679 31132  9324 18259 36035 10178 52806  3972  6397]\n"
     ]
    }
   ],
   "source": [
    "user_id = 1 # id пользователя\n",
    "unique_items = np.unique(trans_cat_train['itemid']) # список айтемов\n",
    "\n",
    "recomendations_ids, scores = ALS_model.recommend(user_id, rate_matrix['train'][user_id])\n",
    "recomendations = unique_items[recomendations_ids]\n",
    "print('Recomendations for user {}: {}'.format(user_id, recomendations))"
   ]
  },
  {
   "cell_type": "markdown",
   "metadata": {},
   "source": [
    "Метрики:"
   ]
  },
  {
   "cell_type": "code",
   "execution_count": 17,
   "metadata": {},
   "outputs": [
    {
     "data": {
      "application/vnd.jupyter.widget-view+json": {
       "model_id": "d8f4ed930be34030b7e9b5ff5c6588e6",
       "version_major": 2,
       "version_minor": 0
      },
      "text/plain": [
       "  0%|          | 0/3274 [00:00<?, ?it/s]"
      ]
     },
     "metadata": {},
     "output_type": "display_data"
    },
    {
     "name": "stdout",
     "output_type": "stream",
     "text": [
      "Mean Average Precision at 3: 0.00424\n"
     ]
    },
    {
     "data": {
      "application/vnd.jupyter.widget-view+json": {
       "model_id": "bb3494be3ca54b1fbbefbb3e6a87fe26",
       "version_major": 2,
       "version_minor": 0
      },
      "text/plain": [
       "  0%|          | 0/3274 [00:00<?, ?it/s]"
      ]
     },
     "metadata": {},
     "output_type": "display_data"
    },
    {
     "name": "stdout",
     "output_type": "stream",
     "text": [
      "AUC_at_3: 0.5024250098884412\n"
     ]
    }
   ],
   "source": [
    "map_at3 = mean_average_precision_at_k(ALS_model, rate_matrix['train'], rate_matrix['test'], K=3)\n",
    "print('Mean Average Precision at 3: {:.5f}'.format(map_at3))\n",
    "print('AUC_at_3:', AUC_at_k(ALS_model, rate_matrix['train'], rate_matrix['test'], K=3))"
   ]
  },
  {
   "cell_type": "markdown",
   "metadata": {},
   "source": [
    "## Описание docker-образа и сервиса"
   ]
  },
  {
   "cell_type": "markdown",
   "metadata": {},
   "source": [
    "Код для развертывания локального сервера с моделью:"
   ]
  },
  {
   "cell_type": "code",
   "execution_count": null,
   "metadata": {},
   "outputs": [],
   "source": [
    "#from flask import Flask, request, jsonify\n",
    "#import pickle\n",
    "#import numpy as np\n",
    "\n",
    "#with open(r'ALS_model.pkl', 'rb') as pkl_file1: \n",
    "#    model = pickle.load(pkl_file1)\n",
    "\n",
    "#with open(r'unique_items.pkl', 'rb') as pkl_file2: \n",
    "#    unique_items = pickle.load(pkl_file2)\n",
    "    \n",
    "#with open(r'rate_matrix.pkl', 'rb') as pkl_file3: \n",
    "#    rate_matrix = pickle.load(pkl_file3)    \n",
    "    \n",
    "#app = Flask(__name__)\n",
    "\n",
    "#@app.route('/recommendation')\n",
    "#def hello_func():\n",
    "#    user = int(request.args.get('name'))\n",
    "#    recomendations_ids, scores = model.recommend(user, rate_matrix[user])\n",
    "#    recomendations = unique_items[recomendations_ids]\n",
    "#    return f'recommendation for user {user}:{recomendations[:3]}!'\n",
    "\n",
    "\n",
    "#if __name__ == '__main__':\n",
    "#    app.run(host='0.0.0.0', port=5000)"
   ]
  },
  {
   "cell_type": "markdown",
   "metadata": {},
   "source": [
    "Docker-образ собирается из приложенного Dockerfile(docker build -t diplom .). В файле requirements указаны необходимые библиотеки. В папке app лежат файл сервера, сохранённая модель и необходимые матрицы в формате pkl.\n",
    "Организация файлов в директории:\n",
    " \n",
    "  \n",
    "diplom\n",
    "\n",
    "  ├─app\n",
    "\n",
    "     ├─ALS_model.pkl\n",
    "\n",
    "     ├─rate_matrix.pkl\n",
    "\n",
    "     ├─unique_items.pkl\n",
    "\n",
    "     └─server.py\n",
    "\n",
    "  └─Dockerfile\n",
    "  \n",
    "  └─requirements.txt\n",
    "  \n",
    "Контейнер запускается из командной строки: docker run -it --rm --name=diplom -p=5000:5000 diplom\n",
    "Далее по адресу http://127.0.0.1:5000/recommendation?user_id=35 можно получить рекомендации трёх товаров для для указанного user_id(указывается как /recommendation?user_id=номер_юзера)\n",
    "\n",
    "Файл server.py можно запустить отдельно от docker-образа и сразу получить рекомендации на сервере."
   ]
  },
  {
   "cell_type": "markdown",
   "metadata": {},
   "source": [
    "Запуск образа:"
   ]
  },
  {
   "cell_type": "markdown",
   "metadata": {},
   "source": [
    "![picture_of_bird](1.PNG)"
   ]
  },
  {
   "cell_type": "markdown",
   "metadata": {},
   "source": [
    "Пример получения рекомендаций:"
   ]
  },
  {
   "cell_type": "markdown",
   "metadata": {},
   "source": [
    "![picture_of_bird](2.PNG)\n",
    "![picture_of_bird](3.PNG)"
   ]
  }
 ],
 "metadata": {
  "kernelspec": {
   "display_name": "Python 3",
   "language": "python",
   "name": "python3"
  },
  "language_info": {
   "codemirror_mode": {
    "name": "ipython",
    "version": 3
   },
   "file_extension": ".py",
   "mimetype": "text/x-python",
   "name": "python",
   "nbconvert_exporter": "python",
   "pygments_lexer": "ipython3",
   "version": "3.10.11"
  },
  "orig_nbformat": 4
 },
 "nbformat": 4,
 "nbformat_minor": 2
}
